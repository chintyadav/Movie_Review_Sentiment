{
 "cells": [
  {
   "cell_type": "code",
   "execution_count": 2,
   "id": "8df8dd91",
   "metadata": {},
   "outputs": [
    {
     "name": "stdout",
     "output_type": "stream",
     "text": [
      "Requirement already satisfied: tensorflow-datasets in c:\\users\\harsh\\anaconda3\\envs\\yadav\\lib\\site-packages (4.9.2)\n",
      "Requirement already satisfied: absl-py in c:\\users\\harsh\\anaconda3\\envs\\yadav\\lib\\site-packages (from tensorflow-datasets) (1.4.0)\n",
      "Requirement already satisfied: array-record in c:\\users\\harsh\\anaconda3\\envs\\yadav\\lib\\site-packages (from tensorflow-datasets) (0.4.0)\n",
      "Requirement already satisfied: click in c:\\users\\harsh\\anaconda3\\envs\\yadav\\lib\\site-packages (from tensorflow-datasets) (8.1.8)\n",
      "Requirement already satisfied: dm-tree in c:\\users\\harsh\\anaconda3\\envs\\yadav\\lib\\site-packages (from tensorflow-datasets) (0.1.8)\n",
      "Requirement already satisfied: etils[enp,epath]>=0.9.0 in c:\\users\\harsh\\anaconda3\\envs\\yadav\\lib\\site-packages (from tensorflow-datasets) (1.3.0)\n",
      "Requirement already satisfied: numpy in c:\\users\\harsh\\anaconda3\\envs\\yadav\\lib\\site-packages (from tensorflow-datasets) (1.24.3)\n",
      "Requirement already satisfied: promise in c:\\users\\harsh\\anaconda3\\envs\\yadav\\lib\\site-packages (from tensorflow-datasets) (2.3)\n",
      "Requirement already satisfied: protobuf>=3.20 in c:\\users\\harsh\\anaconda3\\envs\\yadav\\lib\\site-packages (from tensorflow-datasets) (3.20.3)\n",
      "Requirement already satisfied: psutil in c:\\users\\harsh\\anaconda3\\envs\\yadav\\lib\\site-packages (from tensorflow-datasets) (5.9.0)\n",
      "Requirement already satisfied: requests>=2.19.0 in c:\\users\\harsh\\anaconda3\\envs\\yadav\\lib\\site-packages (from tensorflow-datasets) (2.31.0)\n",
      "Requirement already satisfied: tensorflow-metadata in c:\\users\\harsh\\anaconda3\\envs\\yadav\\lib\\site-packages (from tensorflow-datasets) (1.14.0)\n",
      "Requirement already satisfied: termcolor in c:\\users\\harsh\\anaconda3\\envs\\yadav\\lib\\site-packages (from tensorflow-datasets) (2.4.0)\n",
      "Requirement already satisfied: toml in c:\\users\\harsh\\anaconda3\\envs\\yadav\\lib\\site-packages (from tensorflow-datasets) (0.10.2)\n",
      "Requirement already satisfied: tqdm in c:\\users\\harsh\\anaconda3\\envs\\yadav\\lib\\site-packages (from tensorflow-datasets) (4.66.1)\n",
      "Requirement already satisfied: wrapt in c:\\users\\harsh\\anaconda3\\envs\\yadav\\lib\\site-packages (from tensorflow-datasets) (1.17.3)\n",
      "Requirement already satisfied: importlib-resources in c:\\users\\harsh\\anaconda3\\envs\\yadav\\lib\\site-packages (from tensorflow-datasets) (5.2.0)\n",
      "Requirement already satisfied: typing_extensions in c:\\users\\harsh\\anaconda3\\envs\\yadav\\lib\\site-packages (from etils[enp,epath]>=0.9.0->tensorflow-datasets) (4.5.0)\n",
      "Requirement already satisfied: zipp in c:\\users\\harsh\\anaconda3\\envs\\yadav\\lib\\site-packages (from etils[enp,epath]>=0.9.0->tensorflow-datasets) (3.20.2)\n",
      "Requirement already satisfied: charset-normalizer<4,>=2 in c:\\users\\harsh\\anaconda3\\envs\\yadav\\lib\\site-packages (from requests>=2.19.0->tensorflow-datasets) (2.0.4)\n",
      "Requirement already satisfied: idna<4,>=2.5 in c:\\users\\harsh\\anaconda3\\envs\\yadav\\lib\\site-packages (from requests>=2.19.0->tensorflow-datasets) (3.4)\n",
      "Requirement already satisfied: urllib3<3,>=1.21.1 in c:\\users\\harsh\\anaconda3\\envs\\yadav\\lib\\site-packages (from requests>=2.19.0->tensorflow-datasets) (1.26.16)\n",
      "Requirement already satisfied: certifi>=2017.4.17 in c:\\users\\harsh\\anaconda3\\envs\\yadav\\lib\\site-packages (from requests>=2.19.0->tensorflow-datasets) (2023.7.22)\n",
      "Requirement already satisfied: colorama in c:\\users\\harsh\\anaconda3\\envs\\yadav\\lib\\site-packages (from click->tensorflow-datasets) (0.4.6)\n",
      "Requirement already satisfied: six in c:\\users\\harsh\\anaconda3\\envs\\yadav\\lib\\site-packages (from promise->tensorflow-datasets) (1.16.0)\n",
      "Requirement already satisfied: googleapis-common-protos<2,>=1.52.0 in c:\\users\\harsh\\anaconda3\\envs\\yadav\\lib\\site-packages (from tensorflow-metadata->tensorflow-datasets) (1.70.0)\n"
     ]
    }
   ],
   "source": [
    "import tensorflow as tf\n",
    "from tensorflow.keras.preprocessing.text import Tokenizer\n",
    "from tensorflow.keras.preprocessing.sequence import pad_sequences\n",
    "from tensorflow.keras.models import Sequential\n",
    "from tensorflow.keras.layers import Embedding, LSTM, Dense, Dropout\n",
    "!pip install tensorflow-datasets\n",
    "import tensorflow_datasets as tfds\n",
    "import numpy as np"
   ]
  },
  {
   "cell_type": "code",
   "execution_count": 3,
   "id": "bc49bcee",
   "metadata": {},
   "outputs": [],
   "source": [
    "import tensorflow_datasets as tfds\n",
    "imdb_data = tfds.load(\"imdb_reviews\", as_supervised=True)\n",
    "train_data, test_data = imdb_data['train'], imdb_data['test']\n",
    "\n",
    "\n",
    "train_sentences, train_labels = [], []\n",
    "test_sentences, test_labels = [], []\n",
    "\n",
    "for s, l in train_data:\n",
    "    train_sentences.append(s.numpy().decode(\"utf-8\"))\n",
    "    train_labels.append(l.numpy())\n",
    "\n",
    "for s, l in test_data:\n",
    "    test_sentences.append(s.numpy().decode(\"utf-8\"))\n",
    "    test_labels.append(l.numpy())"
   ]
  },
  {
   "cell_type": "code",
   "execution_count": 4,
   "id": "cfb27f0e",
   "metadata": {},
   "outputs": [],
   "source": [
    "vocab_size = 10000\n",
    "max_len = 200\n",
    "\n",
    "tokenizer = Tokenizer(num_words=vocab_size, oov_token=\"<OOV>\")\n",
    "tokenizer.fit_on_texts(train_sentences)\n",
    "\n",
    "X_train = tokenizer.texts_to_sequences(train_sentences)\n",
    "X_train = pad_sequences(X_train, maxlen=max_len, padding=\"post\", truncating=\"post\")\n",
    "\n",
    "X_test = tokenizer.texts_to_sequences(test_sentences)\n",
    "X_test = pad_sequences(X_test, maxlen=max_len, padding=\"post\", truncating=\"post\")\n",
    "\n",
    "y_train = tf.convert_to_tensor(train_labels)\n",
    "y_test = tf.convert_to_tensor(test_labels)"
   ]
  },
  {
   "cell_type": "code",
   "execution_count": 16,
   "id": "e49f0748",
   "metadata": {},
   "outputs": [],
   "source": [
    "model = Sequential([\n",
    "    Embedding(vocab_size, 64, input_length=max_len),\n",
    "    LSTM(64, return_sequences=True),\n",
    "    Dropout(0.5),\n",
    "    LSTM(32),\n",
    "    Dense(32, activation=\"relu\"),\n",
    "    Dropout(0.5),\n",
    "    Dense(1, activation=\"sigmoid\")\n",
    "])"
   ]
  },
  {
   "cell_type": "code",
   "execution_count": 17,
   "id": "0358963d",
   "metadata": {
    "scrolled": true
   },
   "outputs": [],
   "source": [
    "model.compile(loss=\"binary_crossentropy\", optimizer=\"adam\", metrics=[\"accuracy\"])"
   ]
  },
  {
   "cell_type": "code",
   "execution_count": 10,
   "id": "abbf77c4",
   "metadata": {},
   "outputs": [
    {
     "name": "stdout",
     "output_type": "stream",
     "text": [
      "Model: \"sequential\"\n",
      "_________________________________________________________________\n",
      " Layer (type)                Output Shape              Param #   \n",
      "=================================================================\n",
      " embedding (Embedding)       (None, 200, 64)           640000    \n",
      "                                                                 \n",
      " lstm (LSTM)                 (None, 200, 64)           33024     \n",
      "                                                                 \n",
      " dropout (Dropout)           (None, 200, 64)           0         \n",
      "                                                                 \n",
      " lstm_1 (LSTM)               (None, 32)                12416     \n",
      "                                                                 \n",
      " dense (Dense)               (None, 32)                1056      \n",
      "                                                                 \n",
      " dropout_1 (Dropout)         (None, 32)                0         \n",
      "                                                                 \n",
      " dense_1 (Dense)             (None, 1)                 33        \n",
      "                                                                 \n",
      "=================================================================\n",
      "Total params: 686529 (2.62 MB)\n",
      "Trainable params: 686529 (2.62 MB)\n",
      "Non-trainable params: 0 (0.00 Byte)\n",
      "_________________________________________________________________\n"
     ]
    }
   ],
   "source": [
    "model.summary()"
   ]
  },
  {
   "cell_type": "code",
   "execution_count": 20,
   "id": "b4e159be",
   "metadata": {},
   "outputs": [
    {
     "name": "stdout",
     "output_type": "stream",
     "text": [
      "Epoch 1/5\n",
      "196/196 [==============================] - 113s 553ms/step - loss: 0.6871 - accuracy: 0.5369 - val_loss: 0.6817 - val_accuracy: 0.5582\n",
      "Epoch 2/5\n",
      "196/196 [==============================] - 108s 554ms/step - loss: 0.6773 - accuracy: 0.5637 - val_loss: 0.6759 - val_accuracy: 0.5688\n",
      "Epoch 3/5\n",
      "196/196 [==============================] - 109s 554ms/step - loss: 0.6655 - accuracy: 0.5917 - val_loss: 0.6577 - val_accuracy: 0.6373\n",
      "Epoch 4/5\n",
      "196/196 [==============================] - 110s 563ms/step - loss: 0.6297 - accuracy: 0.6533 - val_loss: 0.6612 - val_accuracy: 0.5576\n",
      "Epoch 5/5\n",
      "196/196 [==============================] - 109s 559ms/step - loss: 0.6037 - accuracy: 0.6826 - val_loss: 0.6533 - val_accuracy: 0.5999\n"
     ]
    }
   ],
   "source": [
    "history = model.fit(\n",
    "    X_train, y_train,\n",
    "    validation_data=(X_test, y_test),\n",
    "    epochs=5,\n",
    "    batch_size=128,\n",
    "    verbose=1\n",
    ")"
   ]
  },
  {
   "cell_type": "code",
   "execution_count": 21,
   "id": "0fb1de6e",
   "metadata": {},
   "outputs": [],
   "source": [
    "def predict_sentiment(text):\n",
    "    seq = tokenizer.texts_to_sequences([text])\n",
    "    padded = pad_sequences(seq, maxlen=max_len, padding=\"post\", truncating=\"post\")\n",
    "    pred = model.predict(padded)[0][0]\n",
    "    sentiment = \"positive\" if pred >= 0.5 else \"negative\"\n",
    "    print(f\"Input: {text}\")\n",
    "    print(f\"Sentiment: {sentiment}, Score: {pred:.4f}\")\n",
    "    print(\"-\" * 50)\n"
   ]
  },
  {
   "cell_type": "code",
   "execution_count": 22,
   "id": "ac69ff0c",
   "metadata": {},
   "outputs": [
    {
     "name": "stdout",
     "output_type": "stream",
     "text": [
      "1/1 [==============================] - 0s 38ms/step\n",
      "Input: the movie was good\n",
      "Sentiment: positive, Score: 0.8691\n",
      "--------------------------------------------------\n",
      "1/1 [==============================] - 0s 37ms/step\n",
      "Input: the movie was terrible and boring\n",
      "Sentiment: negative, Score: 0.3612\n",
      "--------------------------------------------------\n",
      "1/1 [==============================] - 0s 28ms/step\n",
      "Input: fantastic acting and great direction\n",
      "Sentiment: positive, Score: 0.8691\n",
      "--------------------------------------------------\n",
      "1/1 [==============================] - 0s 37ms/step\n",
      "Input: the film is a disgrace, a lazy, predictable, and boring production that tries too hard to be funny and fails to deliver, resulting in a movie that is insulting to the audience and a waste of their time.\n",
      "Sentiment: negative, Score: 0.3612\n",
      "--------------------------------------------------\n"
     ]
    }
   ],
   "source": [
    "test_samples = [\n",
    "    \"the movie was good\",\n",
    "    \"the movie was terrible and boring\",\n",
    "    \"fantastic acting and great direction\",\n",
    "    \"the film is a disgrace, a lazy, predictable, and boring production that tries too hard to be funny and fails to deliver, resulting in a movie that is insulting to the audience and a waste of their time.\"\n",
    "]\n",
    "\n",
    "for s in test_samples:\n",
    "    predict_sentiment(s)"
   ]
  },
  {
   "cell_type": "code",
   "execution_count": 49,
   "id": "83fecc65",
   "metadata": {},
   "outputs": [],
   "source": [
    "import pickle\n",
    "\n",
    "# Save model\n",
    "model.save(\"sentiment_model.h5\")\n",
    "\n",
    "# Save tokenizer\n",
    "with open(\"tokenizer.pickle\", \"wb\") as handle:\n",
    "    pickle.dump(tokenizer, handle, protocol=pickle.HIGHEST_PROTOCOL)\n"
   ]
  },
  {
   "cell_type": "code",
   "execution_count": 23,
   "id": "7897a100",
   "metadata": {},
   "outputs": [
    {
     "name": "stdout",
     "output_type": "stream",
     "text": [
      "INFO:tensorflow:Assets written to: sentiment_model\\assets\n"
     ]
    },
    {
     "name": "stderr",
     "output_type": "stream",
     "text": [
      "INFO:tensorflow:Assets written to: sentiment_model\\assets\n"
     ]
    }
   ],
   "source": [
    "# Instead of model.save(\"sentiment_model.h5\")\n",
    "model.save(\"sentiment_model\")  # This creates a folder instead of a single .h5 file"
   ]
  },
  {
   "cell_type": "code",
   "execution_count": null,
   "id": "12a771f2",
   "metadata": {},
   "outputs": [],
   "source": []
  },
  {
   "cell_type": "code",
   "execution_count": null,
   "id": "6f311967",
   "metadata": {},
   "outputs": [],
   "source": []
  },
  {
   "cell_type": "code",
   "execution_count": null,
   "id": "5ebac8a6",
   "metadata": {},
   "outputs": [],
   "source": []
  },
  {
   "cell_type": "code",
   "execution_count": null,
   "id": "5f771d15",
   "metadata": {},
   "outputs": [],
   "source": []
  },
  {
   "cell_type": "code",
   "execution_count": null,
   "id": "d737abfe",
   "metadata": {},
   "outputs": [],
   "source": []
  },
  {
   "cell_type": "code",
   "execution_count": null,
   "id": "a1f2a3db",
   "metadata": {},
   "outputs": [],
   "source": []
  }
 ],
 "metadata": {
  "kernelspec": {
   "display_name": "Python 3 (ipykernel)",
   "language": "python",
   "name": "python3"
  },
  "language_info": {
   "codemirror_mode": {
    "name": "ipython",
    "version": 3
   },
   "file_extension": ".py",
   "mimetype": "text/x-python",
   "name": "python",
   "nbconvert_exporter": "python",
   "pygments_lexer": "ipython3",
   "version": "3.8.17"
  }
 },
 "nbformat": 4,
 "nbformat_minor": 5
}
